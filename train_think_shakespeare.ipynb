{
 "cells": [
  {
   "cell_type": "code",
   "id": "initial_id",
   "metadata": {
    "ExecuteTime": {
     "end_time": "2025-02-17T20:27:37.808972Z",
     "start_time": "2025-02-17T20:27:37.806368Z"
    }
   },
   "source": [
    "from think_model import ThinkModelConfig, ThinkTransformer\n",
    "from train import TrainerConfig, SimpleDataLoader, Trainer\n",
    "\n",
    "from transformers import AutoTokenizer\n",
    "\n",
    "import torch"
   ],
   "outputs": [],
   "execution_count": 7
  },
  {
   "cell_type": "code",
   "id": "2f28fa23c987e72b",
   "metadata": {
    "ExecuteTime": {
     "end_time": "2025-02-17T20:26:03.365708Z",
     "start_time": "2025-02-17T20:26:03.363989Z"
    }
   },
   "source": [
    "tokenizer_id = \"HuggingFaceTB/SmolLM2-135M\""
   ],
   "outputs": [],
   "execution_count": 2
  },
  {
   "cell_type": "code",
   "id": "9bb4e51aa142abee",
   "metadata": {
    "ExecuteTime": {
     "end_time": "2025-02-17T20:26:03.605822Z",
     "start_time": "2025-02-17T20:26:03.408108Z"
    }
   },
   "source": [
    "tokenizer = AutoTokenizer.from_pretrained(tokenizer_id)\n",
    "tokenizer.pad_token = tokenizer.eos_token"
   ],
   "outputs": [],
   "execution_count": 3
  },
  {
   "cell_type": "code",
   "id": "cde027092af8291e",
   "metadata": {
    "ExecuteTime": {
     "end_time": "2025-02-17T20:26:03.612565Z",
     "start_time": "2025-02-17T20:26:03.611051Z"
    }
   },
   "source": [
    "model_config = ThinkModelConfig(\n",
    "    vocab_size=tokenizer.vocab_size,\n",
    "    d_model=576,\n",
    "    d_head=64,\n",
    "    d_mlp_proj=1536,\n",
    "    n_generate_layers=12,\n",
    "    n_think_layers=30,\n",
    "    n_kv_heads=3,\n",
    "    n_attn_heads=9,\n",
    "    rms_norm_eps=1e-5,\n",
    "    initializer_range=0.041666666666666664,\n",
    "    rope_theta=100000.0,\n",
    "    padding_idx=tokenizer.pad_token_id\n",
    ")"
   ],
   "outputs": [],
   "execution_count": 4
  },
  {
   "cell_type": "code",
   "id": "809773e662327a12",
   "metadata": {},
   "source": [
    "train_config = TrainerConfig(\n",
    "    per_device_train_batch_size=8,\n",
    "    max_seq_len=1024,\n",
    "    num_epochs=64,\n",
    "    eval_interval_steps=25,\n",
    "    learning_rate=1e-4,\n",
    "    grad_clip_norm=1.0,\n",
    "    val_size=0.1,\n",
    "    log_dir=\"runs/shakespeare_think\",\n",
    "    warmup_ratio=0.1\n",
    ")"
   ],
   "outputs": [],
   "execution_count": null
  },
  {
   "cell_type": "code",
   "id": "374f398bb34f7ac1",
   "metadata": {},
   "source": [
    "with open(\"data/tiny_shakespeare.txt\") as f:\n",
    "    text = f.read()"
   ],
   "outputs": [],
   "execution_count": null
  },
  {
   "cell_type": "code",
   "id": "9a912a0ec92039d2",
   "metadata": {
    "ExecuteTime": {
     "end_time": "2025-02-17T20:27:59.545164Z",
     "start_time": "2025-02-17T20:27:58.013155Z"
    }
   },
   "source": [
    "model = ThinkTransformer(model_config)\n",
    "#dataloader = SimpleDataLoader(train_config, tokenizer, text=text)\n",
    "#trainer = Trainer(train_config, model)"
   ],
   "outputs": [],
   "execution_count": 9
  },
  {
   "cell_type": "code",
   "id": "ee8c2059258a0195",
   "metadata": {
    "ExecuteTime": {
     "end_time": "2025-02-17T20:28:01.741504Z",
     "start_time": "2025-02-17T20:28:01.739799Z"
    }
   },
   "source": "#trainer.train(dataloader)",
   "outputs": [],
   "execution_count": 10
  },
  {
   "metadata": {
    "ExecuteTime": {
     "end_time": "2025-02-17T20:26:54.166078Z",
     "start_time": "2025-02-17T20:26:54.164338Z"
    }
   },
   "cell_type": "code",
   "source": "#trainer.save_checkpoint(\"think_shakespeare\")",
   "id": "6b74ac833c9795a",
   "outputs": [],
   "execution_count": 5
  },
  {
   "metadata": {
    "ExecuteTime": {
     "end_time": "2025-02-17T20:30:44.597131Z",
     "start_time": "2025-02-17T20:30:44.014480Z"
    }
   },
   "cell_type": "code",
   "source": [
    "orig_state_dict = torch.load(\"think_shakespeare/model.checkpoint.2025-02-17--20-24-33.pt\", weights_only=True)\n",
    "fixed_state_dict = {k.replace('_orig_mod.', ''): v for k,v in orig_state_dict.items()}\n",
    "model.load_state_dict(fixed_state_dict)"
   ],
   "id": "5c2eccd3e2f5932b",
   "outputs": [
    {
     "data": {
      "text/plain": [
       "<All keys matched successfully>"
      ]
     },
     "execution_count": 12,
     "metadata": {},
     "output_type": "execute_result"
    }
   ],
   "execution_count": 12
  },
  {
   "metadata": {
    "ExecuteTime": {
     "end_time": "2025-02-17T20:30:52.379670Z",
     "start_time": "2025-02-17T20:30:52.244355Z"
    }
   },
   "cell_type": "code",
   "source": "model.to(\"cuda\")",
   "id": "8273a642dc17083d",
   "outputs": [
    {
     "data": {
      "text/plain": [
       "ThinkTransformer(\n",
       "  (think_network): ThinkNetwork(\n",
       "    (embed_tokens): Embedding(49152, 576)\n",
       "    (layers): ModuleList(\n",
       "      (0-29): 30 x DecoderLayer(\n",
       "        (self_attn): GroupedQueryAttention(\n",
       "          (q_proj): Linear(in_features=576, out_features=576, bias=False)\n",
       "          (k_proj): Linear(in_features=576, out_features=192, bias=False)\n",
       "          (v_proj): Linear(in_features=576, out_features=192, bias=False)\n",
       "          (o_proj): Linear(in_features=576, out_features=576, bias=False)\n",
       "        )\n",
       "        (mlp): GatedMlp(\n",
       "          (up_proj): Linear(in_features=576, out_features=1536, bias=False)\n",
       "          (gate_proj): Linear(in_features=576, out_features=1536, bias=False)\n",
       "          (down_proj): Linear(in_features=1536, out_features=576, bias=False)\n",
       "          (silu): SiLU()\n",
       "        )\n",
       "        (input_layernorm): RMSNorm((576,), eps=1e-05, elementwise_affine=True)\n",
       "        (post_attention_layernorm): RMSNorm((576,), eps=1e-05, elementwise_affine=True)\n",
       "      )\n",
       "    )\n",
       "    (norm): RMSNorm((576,), eps=1e-05, elementwise_affine=True)\n",
       "    (rotary_emb): Rotary()\n",
       "  )\n",
       "  (generate_network): GenerateNetwork(\n",
       "    (embed_tokens): Embedding(49152, 576)\n",
       "    (layers): ModuleList(\n",
       "      (0-11): 12 x CrossAttnDecoderLayer(\n",
       "        (self_attn): GroupedQueryAttention(\n",
       "          (q_proj): Linear(in_features=576, out_features=576, bias=False)\n",
       "          (k_proj): Linear(in_features=576, out_features=192, bias=False)\n",
       "          (v_proj): Linear(in_features=576, out_features=192, bias=False)\n",
       "          (o_proj): Linear(in_features=576, out_features=576, bias=False)\n",
       "        )\n",
       "        (cross_attn): GroupedQueryAttention(\n",
       "          (q_proj): Linear(in_features=576, out_features=576, bias=False)\n",
       "          (k_proj): Linear(in_features=576, out_features=192, bias=False)\n",
       "          (v_proj): Linear(in_features=576, out_features=192, bias=False)\n",
       "          (o_proj): Linear(in_features=576, out_features=576, bias=False)\n",
       "        )\n",
       "        (mlp): GatedMlp(\n",
       "          (up_proj): Linear(in_features=576, out_features=1536, bias=False)\n",
       "          (gate_proj): Linear(in_features=576, out_features=1536, bias=False)\n",
       "          (down_proj): Linear(in_features=1536, out_features=576, bias=False)\n",
       "          (silu): SiLU()\n",
       "        )\n",
       "        (self_attn_input_layernorm): RMSNorm((576,), eps=1e-05, elementwise_affine=True)\n",
       "        (cross_attn_input_layernorm): RMSNorm((576,), eps=1e-05, elementwise_affine=True)\n",
       "        (post_attention_layernorm): RMSNorm((576,), eps=1e-05, elementwise_affine=True)\n",
       "      )\n",
       "    )\n",
       "    (norm): RMSNorm((576,), eps=1e-05, elementwise_affine=True)\n",
       "    (lm_head): Linear(in_features=576, out_features=49152, bias=False)\n",
       "    (rotary_emb): Rotary()\n",
       "  )\n",
       ")"
      ]
     },
     "execution_count": 13,
     "metadata": {},
     "output_type": "execute_result"
    }
   ],
   "execution_count": 13
  },
  {
   "cell_type": "code",
   "id": "8b5596eda083de0a",
   "metadata": {
    "ExecuteTime": {
     "end_time": "2025-02-17T20:38:29.564924Z",
     "start_time": "2025-02-17T20:38:27.250354Z"
    }
   },
   "source": [
    "input_text = \"\"\"\n",
    "First Citizen:\n",
    "Before we proceed any further, hear me speak.\n",
    "\n",
    "All:\n",
    "Speak, speak.\n",
    "\"\"\".strip()\n",
    "\n",
    "input_ids = tokenizer([input_text], return_tensors=\"pt\")['input_ids'].to(\"cuda\")\n",
    "idx = model.generate(input_ids, temperature=0.25, top_k=50, max_new_tokens=128, think_r=8)\n",
    "print(tokenizer.batch_decode(idx)[0])"
   ],
   "outputs": [
    {
     "name": "stdout",
     "output_type": "stream",
     "text": [
      "First Citizen:\n",
      "Before we proceed any further, hear me speak.\n",
      "\n",
      "All:\n",
      "Speak, speak.\n",
      "\n",
      "First Citizen:\n",
      "You are all so cannot a! still is to the king?\n",
      "\n",
      "All:\n",
      "That, ye's poor man?\n",
      "\n",
      "First Citizen:\n",
      "To the, so fair one for a this night by my tongue,\n",
      "Let him say they are come to the next.\n",
      "\n",
      "First Citizen:\n",
      "Why, by the first 'tis my heart; you know no more!\n",
      "Thou art mean here not from his my mind?\n",
      "\n",
      "Second Citizen:\n",
      "\n",
      "Servant:\n",
      "What hast thou hast done, to 't is the eye; but she\n",
      "as a haste: therefore\n"
     ]
    }
   ],
   "execution_count": 27
  }
 ],
 "metadata": {
  "kernelspec": {
   "display_name": "Python 3 (ipykernel)",
   "language": "python",
   "name": "python3"
  },
  "language_info": {
   "codemirror_mode": {
    "name": "ipython",
    "version": 3
   },
   "file_extension": ".py",
   "mimetype": "text/x-python",
   "name": "python",
   "nbconvert_exporter": "python",
   "pygments_lexer": "ipython3",
   "version": "3.11.10"
  }
 },
 "nbformat": 4,
 "nbformat_minor": 5
}
