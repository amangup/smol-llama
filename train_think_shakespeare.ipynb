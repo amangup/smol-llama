{
 "cells": [
  {
   "cell_type": "code",
   "id": "initial_id",
   "metadata": {},
   "source": [
    "from think_model import ThinkModelConfig, ThinkTransformer\n",
    "from train import TrainerConfig, SimpleDataLoader, Trainer\n",
    "\n",
    "from transformers import AutoTokenizer\n",
    "\n",
    "import torch"
   ],
   "outputs": [],
   "execution_count": null
  },
  {
   "cell_type": "code",
   "id": "2f28fa23c987e72b",
   "metadata": {},
   "source": [
    "tokenizer_id = \"HuggingFaceTB/SmolLM2-135M\""
   ],
   "outputs": [],
   "execution_count": null
  },
  {
   "cell_type": "code",
   "id": "9bb4e51aa142abee",
   "metadata": {},
   "source": [
    "tokenizer = AutoTokenizer.from_pretrained(tokenizer_id)\n",
    "tokenizer.pad_token = tokenizer.eos_token"
   ],
   "outputs": [],
   "execution_count": null
  },
  {
   "cell_type": "code",
   "id": "cde027092af8291e",
   "metadata": {},
   "source": [
    "model_config = ThinkModelConfig(\n",
    "    vocab_size=tokenizer.vocab_size,\n",
    "    #\n",
    "    # Generate model\n",
    "    d_model=576,\n",
    "    d_head=64,\n",
    "    d_mlp_proj=1536,\n",
    "    n_generate_layers=16,\n",
    "    n_kv_heads=3,\n",
    "    n_attn_heads=9,\n",
    "    n_cross_attn_heads=9,\n",
    "    generate_initializer_range=0.002,\n",
    "    #\n",
    "    # Think model\n",
    "    think_d_model=576,\n",
    "    think_d_head=64,\n",
    "    think_d_mlp_proj=1536,\n",
    "    n_think_kv_heads=3,\n",
    "    n_think_attn_heads=9,\n",
    "    n_think_layers=16,\n",
    "    think_initializer_range=0.02,\n",
    "    #\n",
    "    # Others\n",
    "    think_seq_prefix_ratio=0.25,\n",
    "    thought_embedding_init_normal=False,\n",
    "    train_recurrence=1,\n",
    "    rms_norm_eps=1e-5,\n",
    "    rope_theta=100000.0,\n",
    "    padding_idx=tokenizer.pad_token_id\n",
    ")"
   ],
   "outputs": [],
   "execution_count": null
  },
  {
   "cell_type": "code",
   "id": "809773e662327a12",
   "metadata": {},
   "source": [
    "train_config = TrainerConfig(\n",
    "    per_device_train_batch_size=8,\n",
    "    max_seq_len=512,\n",
    "    num_epochs=1,\n",
    "    eval_interval_steps=25,\n",
    "    learning_rate=1e-3,\n",
    "    grad_clip_norm=1.0,\n",
    "    val_size=0.1,\n",
    "    log_dir=\"runs/shakespeare_think_test\",\n",
    "    warmup_ratio=0.1,)"
   ],
   "outputs": [],
   "execution_count": null
  },
  {
   "cell_type": "code",
   "id": "374f398bb34f7ac1",
   "metadata": {},
   "source": [
    "with open(\"data/tiny_shakespeare.txt\") as f:\n",
    "    text = f.read()"
   ],
   "outputs": [],
   "execution_count": null
  },
  {
   "cell_type": "code",
   "id": "9a912a0ec92039d2",
   "metadata": {},
   "source": [
    "model = ThinkTransformer(model_config)\n",
    "dataloader = SimpleDataLoader(train_config, tokenizer, text=text)\n",
    "trainer = Trainer(train_config, model)"
   ],
   "outputs": [],
   "execution_count": null
  },
  {
   "cell_type": "code",
   "id": "ee8c2059258a0195",
   "metadata": {},
   "source": "trainer.train(dataloader)",
   "outputs": [],
   "execution_count": null
  },
  {
   "cell_type": "code",
   "id": "6b74ac833c9795a",
   "metadata": {},
   "source": "#trainer.save_checkpoint(\"think_shakespeare\")",
   "outputs": [],
   "execution_count": null
  },
  {
   "cell_type": "code",
   "id": "5c2eccd3e2f5932b",
   "metadata": {},
   "source": [
    "# state_dict = torch.load(\"think_shakespeare/model.checkpoint.2025-02-22--23-04-54.pt\", weights_only=True)\n",
    "# model = ThinkTransformer(model_config)\n",
    "# model.load_state_dict(state_dict)\n",
    "# model.to(\"cuda\")\n"
   ],
   "outputs": [],
   "execution_count": null
  },
  {
   "cell_type": "code",
   "id": "8b5596eda083de0a",
   "metadata": {},
   "source": [
    "input_text = \"\"\"\n",
    "First Citizen:\n",
    "Before we proceed any further, hear me speak.\n",
    "\n",
    "All:\n",
    "Speak, speak.\n",
    "\"\"\".strip()\n",
    "\n",
    "input_ids = tokenizer([input_text], return_tensors=\"pt\")['input_ids'].to(\"cuda\")\n",
    "idx = model.generate(input_ids, temperature=0.01, top_k=5, max_new_tokens=64, think_r=256)\n",
    "print(tokenizer.batch_decode(idx)[0])"
   ],
   "outputs": [],
   "execution_count": null
  },
  {
   "metadata": {},
   "cell_type": "code",
   "source": "",
   "id": "d334ef6b19f83419",
   "outputs": [],
   "execution_count": null
  }
 ],
 "metadata": {
  "kernelspec": {
   "display_name": "Python 3 (ipykernel)",
   "language": "python",
   "name": "python3"
  },
  "language_info": {
   "codemirror_mode": {
    "name": "ipython",
    "version": 3
   },
   "file_extension": ".py",
   "mimetype": "text/x-python",
   "name": "python",
   "nbconvert_exporter": "python",
   "pygments_lexer": "ipython3",
   "version": "3.10.12"
  }
 },
 "nbformat": 4,
 "nbformat_minor": 5
}
