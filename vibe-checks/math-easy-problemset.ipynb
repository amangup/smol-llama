{
 "cells": [
  {
   "cell_type": "code",
   "id": "initial_id",
   "metadata": {
    "collapsed": true,
    "ExecuteTime": {
     "end_time": "2025-02-09T07:01:42.191384Z",
     "start_time": "2025-02-09T07:01:42.188240Z"
    }
   },
   "source": "gsm8k1 = \"Mira earns $15 an hour for babysitting. Yesterday, she babysat a toddler for 80 minutes. How much did she earn?\"",
   "outputs": [],
   "execution_count": 1
  },
  {
   "metadata": {
    "ExecuteTime": {
     "end_time": "2025-02-09T07:04:12.439021Z",
     "start_time": "2025-02-09T07:04:12.436702Z"
    }
   },
   "cell_type": "code",
   "source": "gsm8k2 = \"The city's biggest clothing store has a president's day sale. With $150 dollars, she bought 2 pairs of denim which cost $15 each, a pair of shoes which cost $40, and some sweaters which cost $40. How many sweaters did she get?\"",
   "id": "b0e97ae8251dc160",
   "outputs": [],
   "execution_count": 2
  },
  {
   "metadata": {
    "ExecuteTime": {
     "end_time": "2025-02-09T07:07:56.437572Z",
     "start_time": "2025-02-09T07:07:56.435553Z"
    }
   },
   "cell_type": "code",
   "source": "gsm8k3 = \"Four buildings collapsed after an earthquake. Since the earthquake shook the foundations of all buildings, experts predicted that another earthquake will cause triple the number of buildings to collapse. And each following earthquake will keep tripling that number. After three more earthquakes after the initial one, how many buildings have collapsed?\"",
   "id": "f69d8dd14dd583ac",
   "outputs": [],
   "execution_count": 4
  },
  {
   "metadata": {
    "ExecuteTime": {
     "end_time": "2025-02-09T07:09:34.852452Z",
     "start_time": "2025-02-09T07:09:34.850509Z"
    }
   },
   "cell_type": "code",
   "source": "gsm8k4 = \"There is 160 liters of olive oil in 12 cans. If 4 cans are holding 12 liters each, how much oil is in each of the remaining cans?\"",
   "id": "96b339041ad84f49",
   "outputs": [],
   "execution_count": 5
  },
  {
   "metadata": {
    "ExecuteTime": {
     "end_time": "2025-02-09T07:14:05.805671Z",
     "start_time": "2025-02-09T07:14:05.803700Z"
    }
   },
   "cell_type": "code",
   "source": "gsm8k5 = \"Amar and Arjun are competing in a month long race. They have 240 miles to run through the month. On the first 3 days, Amar runs an average of 2 miles a day. Amar picks up his mileage and runs 12 miles each for the next 2 days. Arjun has been averaging a consistent mileage of 8 miles per day for the first 5 days. What is the sum of the average mileage of Arjun and Amar required for the remaining days in the month so that they both finish the race?\"",
   "id": "c8152fc7d54e0283",
   "outputs": [],
   "execution_count": 7
  },
  {
   "metadata": {
    "ExecuteTime": {
     "end_time": "2025-02-09T07:14:21.994043Z",
     "start_time": "2025-02-09T07:14:21.457198Z"
    }
   },
   "cell_type": "code",
   "source": "from datasets import Dataset",
   "id": "ad1ea1db562977d2",
   "outputs": [],
   "execution_count": 9
  },
  {
   "metadata": {
    "ExecuteTime": {
     "end_time": "2025-02-09T07:15:01.689637Z",
     "start_time": "2025-02-09T07:14:59.658838Z"
    }
   },
   "cell_type": "code",
   "source": "Dataset.from_dict({\"problem\": [gsm8k1, gsm8k2, gsm8k3, gsm8k4, gsm8k5]}).push_to_hub(\"amang1802/math-vibe-gsm-similar\")",
   "id": "f28dc6677a3f8d44",
   "outputs": [
    {
     "data": {
      "text/plain": [
       "Uploading the dataset shards:   0%|          | 0/1 [00:00<?, ?it/s]"
      ],
      "application/vnd.jupyter.widget-view+json": {
       "version_major": 2,
       "version_minor": 0,
       "model_id": "a4b334109bc841c0bb3c46117a02e2f7"
      }
     },
     "metadata": {},
     "output_type": "display_data"
    },
    {
     "data": {
      "text/plain": [
       "Creating parquet from Arrow format:   0%|          | 0/1 [00:00<?, ?ba/s]"
      ],
      "application/vnd.jupyter.widget-view+json": {
       "version_major": 2,
       "version_minor": 0,
       "model_id": "947fa28422dc42788f82ba1748c55ce7"
      }
     },
     "metadata": {},
     "output_type": "display_data"
    },
    {
     "data": {
      "text/plain": [
       "CommitInfo(commit_url='https://huggingface.co/datasets/amang1802/math-vibe-gsm-similar/commit/6a481e1d17b6b0e8f250276e97f0bd060a0edae9', commit_message='Upload dataset', commit_description='', oid='6a481e1d17b6b0e8f250276e97f0bd060a0edae9', pr_url=None, repo_url=RepoUrl('https://huggingface.co/datasets/amang1802/math-vibe-gsm-similar', endpoint='https://huggingface.co', repo_type='dataset', repo_id='amang1802/math-vibe-gsm-similar'), pr_revision=None, pr_num=None)"
      ]
     },
     "execution_count": 10,
     "metadata": {},
     "output_type": "execute_result"
    }
   ],
   "execution_count": 10
  },
  {
   "metadata": {
    "ExecuteTime": {
     "end_time": "2025-02-09T07:15:16.719065Z",
     "start_time": "2025-02-09T07:15:16.716946Z"
    }
   },
   "cell_type": "code",
   "source": "new1 = \"I am driving across a town whose streets form a grid. I'm on the bottom left of the town. I need to reach the midpoint of the town. The town has 10 main avenues and 90 cross streets. How many blocks do I need to drive?\"",
   "id": "9e8302b9bae68d3b",
   "outputs": [],
   "execution_count": 11
  },
  {
   "metadata": {
    "ExecuteTime": {
     "end_time": "2025-02-09T07:19:22.794699Z",
     "start_time": "2025-02-09T07:19:22.792752Z"
    }
   },
   "cell_type": "code",
   "source": "new2 = \"Rosie goes through 5 diapers a day. Her parents subscribe to a diaper delivery service that delivers diapers to their home once every two weeks. A pack of diaper contains 24 diapers. How many packs of diapers should her parents order every 2 weeks?\"",
   "id": "15dda89a87b8f6a5",
   "outputs": [],
   "execution_count": 12
  },
  {
   "metadata": {
    "ExecuteTime": {
     "end_time": "2025-02-09T07:20:55.257549Z",
     "start_time": "2025-02-09T07:20:55.255397Z"
    }
   },
   "cell_type": "code",
   "source": "new3 = \"Natalie likes to make lemonade from scratch every Sunday. Natalie makes it for herself and her parents, and that requires 3 fresh lemons for the batch. She picks lemons from her own lemon tree in the garden. If the lemon tree has 100 lemons in the beginning of the spring, for how many weeks can Natalie make lemonade?\"",
   "id": "cf5a044c473172cc",
   "outputs": [],
   "execution_count": 13
  },
  {
   "metadata": {
    "ExecuteTime": {
     "end_time": "2025-02-09T07:23:00.672177Z",
     "start_time": "2025-02-09T07:23:00.670140Z"
    }
   },
   "cell_type": "code",
   "source": "new4 = \"Alan, Amaya and Aileen are a family with long hair. Alan washes his hair once every 3 days. Amaya has the longest hair and she washes them once a week. Aileen is a baby and her parents bathe her every other day, when they also wash her hair. They all washed their hair on 1st day of the year. How many days will pass between now and another day when all of them would have washed their hair?\"",
   "id": "91a56fa52286c3bf",
   "outputs": [],
   "execution_count": 14
  },
  {
   "metadata": {
    "ExecuteTime": {
     "end_time": "2025-02-09T07:27:21.256082Z",
     "start_time": "2025-02-09T07:27:21.254180Z"
    }
   },
   "cell_type": "code",
   "source": "new5 = \"Irene has the option to take the transbay bus to work, which costs $7 each way. She can also take the train which only costs $3 each way. But the train station is a little far, so she takes a local bus to the train station which costs $2. While coming back though, she is too tired to wait for the bus and takes a taxi instead, which costs $7 to get her back home. Which is cheaper - the transbay bus or the train?\"",
   "id": "6844b10c92d0be27",
   "outputs": [],
   "execution_count": 15
  },
  {
   "metadata": {
    "ExecuteTime": {
     "end_time": "2025-02-09T07:28:24.156707Z",
     "start_time": "2025-02-09T07:28:22.015506Z"
    }
   },
   "cell_type": "code",
   "source": "Dataset.from_dict({\"problem\": [new1, new2, new3, new4, new5]}).push_to_hub(\"amang1802/math-vibe-new\")",
   "id": "8ad8b21550307905",
   "outputs": [
    {
     "data": {
      "text/plain": [
       "Uploading the dataset shards:   0%|          | 0/1 [00:00<?, ?it/s]"
      ],
      "application/vnd.jupyter.widget-view+json": {
       "version_major": 2,
       "version_minor": 0,
       "model_id": "8eafed67fb514a8abf3ac14f23b91547"
      }
     },
     "metadata": {},
     "output_type": "display_data"
    },
    {
     "data": {
      "text/plain": [
       "Creating parquet from Arrow format:   0%|          | 0/1 [00:00<?, ?ba/s]"
      ],
      "application/vnd.jupyter.widget-view+json": {
       "version_major": 2,
       "version_minor": 0,
       "model_id": "e6e2627be8d74d6395c4cc7a4b13d841"
      }
     },
     "metadata": {},
     "output_type": "display_data"
    },
    {
     "data": {
      "text/plain": [
       "CommitInfo(commit_url='https://huggingface.co/datasets/amang1802/math-vibe-new/commit/3eeff24e2f26480a4f85b09db47017e6bf47ec86', commit_message='Upload dataset', commit_description='', oid='3eeff24e2f26480a4f85b09db47017e6bf47ec86', pr_url=None, repo_url=RepoUrl('https://huggingface.co/datasets/amang1802/math-vibe-new', endpoint='https://huggingface.co', repo_type='dataset', repo_id='amang1802/math-vibe-new'), pr_revision=None, pr_num=None)"
      ]
     },
     "execution_count": 17,
     "metadata": {},
     "output_type": "execute_result"
    }
   ],
   "execution_count": 17
  },
  {
   "metadata": {},
   "cell_type": "code",
   "outputs": [],
   "execution_count": null,
   "source": "",
   "id": "3da491587e6a5849"
  }
 ],
 "metadata": {
  "kernelspec": {
   "display_name": "Python 3",
   "language": "python",
   "name": "python3"
  },
  "language_info": {
   "codemirror_mode": {
    "name": "ipython",
    "version": 2
   },
   "file_extension": ".py",
   "mimetype": "text/x-python",
   "name": "python",
   "nbconvert_exporter": "python",
   "pygments_lexer": "ipython2",
   "version": "2.7.6"
  }
 },
 "nbformat": 4,
 "nbformat_minor": 5
}
